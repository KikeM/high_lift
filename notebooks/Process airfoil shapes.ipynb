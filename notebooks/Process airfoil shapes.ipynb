{
 "cells": [
  {
   "cell_type": "markdown",
   "metadata": {},
   "source": [
    "# Create multi-element airfoil data"
   ]
  },
  {
   "cell_type": "code",
   "execution_count": 304,
   "metadata": {},
   "outputs": [],
   "source": [
    "import pandas as pd\n",
    "from pathlib import Path\n",
    "import matplotlib.pyplot as plt\n",
    "import matplotlib\n",
    "\n",
    "matplotlib.rcParams[\"figure.figsize\"] = [10, 7]  # Make plots bigger than default"
   ]
  },
  {
   "cell_type": "code",
   "execution_count": 305,
   "metadata": {},
   "outputs": [
    {
     "data": {
      "text/plain": [
       "[PosixPath('../data/coordinates/.DS_Store'),\n",
       " PosixPath('../data/coordinates/body.png'),\n",
       " PosixPath('../data/coordinates/slot.png'),\n",
       " PosixPath('../data/coordinates/cove.png'),\n",
       " PosixPath('../data/coordinates/cove.csv'),\n",
       " PosixPath('../data/coordinates/processed'),\n",
       " PosixPath('../data/coordinates/raw')]"
      ]
     },
     "execution_count": 305,
     "metadata": {},
     "output_type": "execute_result"
    }
   ],
   "source": [
    "PATH_DATA = Path(\"../data/coordinates\")\n",
    "list(PATH_DATA.glob(\"*\"))"
   ]
  },
  {
   "cell_type": "code",
   "execution_count": 306,
   "metadata": {},
   "outputs": [],
   "source": [
    "# Paths\n",
    "path_raw = PATH_DATA / \"raw\"\n",
    "path_processed = PATH_DATA / \"processed\""
   ]
  },
  {
   "cell_type": "markdown",
   "metadata": {},
   "source": [
    "## Scale raw data"
   ]
  },
  {
   "cell_type": "code",
   "execution_count": 307,
   "metadata": {},
   "outputs": [],
   "source": [
    "names = [\"main\", \"slot\", \"cove\"]\n",
    "\n",
    "# Operations\n",
    "X_LOWER = \"X_lower\"\n",
    "X_UPPER = \"X_upper\"\n",
    "Y_LOWER = \"Y_lower\"\n",
    "Y_UPPER = \"Y_upper\""
   ]
  },
  {
   "cell_type": "code",
   "execution_count": 308,
   "metadata": {},
   "outputs": [],
   "source": [
    "coordinates = dict()\n",
    "for name in names:\n",
    "\n",
    "    _name = name + \".csv\"\n",
    "    _coordinates = pd.read_csv(path_raw / _name)\n",
    "    \n",
    "    # Scale\n",
    "    _coordinates = _coordinates.div(100.0).round(6)\n",
    "    \n",
    "    # Repanel\n",
    "    _coordinates\n",
    "\n",
    "    # Save\n",
    "    coordinates[name] = _coordinates.copy()\n",
    "    \n",
    "    _coordinates.to_csv(path_or_buf = path_processed / _name , index=False)"
   ]
  },
  {
   "cell_type": "markdown",
   "metadata": {},
   "source": [
    "## Build airfoils"
   ]
  },
  {
   "cell_type": "code",
   "execution_count": 309,
   "metadata": {},
   "outputs": [],
   "source": [
    "main = coordinates[\"main\"]\n",
    "cove = coordinates[\"cove\"]"
   ]
  },
  {
   "cell_type": "markdown",
   "metadata": {},
   "source": [
    "### Main element"
   ]
  },
  {
   "cell_type": "markdown",
   "metadata": {},
   "source": [
    "#### Lower surface"
   ]
  },
  {
   "cell_type": "code",
   "execution_count": 271,
   "metadata": {},
   "outputs": [],
   "source": [
    "main_lower = main.filter(regex=\"lower\")\n",
    "cove_lower = cove.filter(regex=\"lower\")"
   ]
  },
  {
   "cell_type": "code",
   "execution_count": 272,
   "metadata": {},
   "outputs": [],
   "source": [
    "min_x = cove_lower[X_LOWER].min()\n",
    "mask = main_lower[X_LOWER] < min_x\n",
    "\n",
    "main_lower = main_lower.loc[mask].append(cove_lower).set_index(X_LOWER)"
   ]
  },
  {
   "cell_type": "markdown",
   "metadata": {},
   "source": [
    "#### Upper surface"
   ]
  },
  {
   "cell_type": "code",
   "execution_count": 273,
   "metadata": {},
   "outputs": [],
   "source": [
    "main_upper = main.filter(regex=\"upper\")\n",
    "cove_upper = cove.filter(regex=\"upper\")"
   ]
  },
  {
   "cell_type": "code",
   "execution_count": 274,
   "metadata": {},
   "outputs": [],
   "source": [
    "min_x = cove_upper[X_UPPER].min()\n",
    "mask = main_upper[X_UPPER] < min_x\n",
    "\n",
    "main_upper = main_upper.loc[mask].append(cove_upper).set_index(X_UPPER)\n",
    "\n",
    "# Fill in the gaps\n",
    "main_upper = main_upper.reset_index(drop=False).dropna(subset=[X_UPPER]).set_index(X_UPPER)\n",
    "main_upper = main_upper.interpolate(method=\"index\")"
   ]
  },
  {
   "cell_type": "markdown",
   "metadata": {},
   "source": [
    "#### Combine upper and lower surface"
   ]
  },
  {
   "cell_type": "code",
   "execution_count": 275,
   "metadata": {},
   "outputs": [],
   "source": [
    "def interpolate_series(series, N):\n",
    "    \"\"\"Interpolate series to higher frequency.\n",
    "\n",
    "    Parameters\n",
    "    ----------\n",
    "    series : pandas.Series\n",
    "    N : int\n",
    "\n",
    "    Returns\n",
    "    -------\n",
    "    series : interpolated series\n",
    "    \"\"\"\n",
    "\n",
    "    _series = series.copy()\n",
    "\n",
    "    grad = series.index.values[0] - series.index.values[-1]\n",
    "    ascending = grad < 0\n",
    "\n",
    "    index = _series.index\n",
    "    start = index[0]\n",
    "    stop = index[-1]\n",
    "\n",
    "    new_index = np.linspace(start=start, stop=stop, num=N)\n",
    "    new_index = pd.Index(new_index[1:-1])\n",
    "\n",
    "    _series = _series.reindex(new_index.append(index))\n",
    "    _series = _series.sort_index(ascending=ascending)\n",
    "    _series = _series.interpolate(method=\"index\")\n",
    "\n",
    "    return _series"
   ]
  },
  {
   "cell_type": "code",
   "execution_count": 276,
   "metadata": {},
   "outputs": [],
   "source": [
    "# Clean\n",
    "main_lower = main_lower.dropna().drop_duplicates().sort_index(ascending=False)\n",
    "main_upper = main_upper.dropna().drop_duplicates().sort_index(ascending=True)\n",
    "\n",
    "# Interpolate\n",
    "# N_UPPER = 50\n",
    "# N_LOWER = 60\n",
    "\n",
    "# main_lower = interpolate_series(main_lower, N = N_LOWER)\n",
    "# main_upper = interpolate_series(main_upper, N = N_UPPER)"
   ]
  },
  {
   "cell_type": "code",
   "execution_count": 277,
   "metadata": {},
   "outputs": [
    {
     "data": {
      "image/png": "[encoded data removed]",
      "text/plain": [
       "<Figure size 720x504 with 1 Axes>"
      ]
     },
     "metadata": {
      "needs_background": "light"
     },
     "output_type": "display_data"
    }
   ],
   "source": [
    "ax = main_lower.plot()\n",
    "main_upper.plot(ax=ax)\n",
    "\n",
    "plt.axis(\"equal\")\n",
    "plt.grid()"
   ]
  },
  {
   "cell_type": "code",
   "execution_count": 278,
   "metadata": {},
   "outputs": [
    {
     "data": {
      "image/png": "[encoded data removed]",
      "text/plain": [
       "<Figure size 720x504 with 1 Axes>"
      ]
     },
     "metadata": {
      "needs_background": "light"
     },
     "output_type": "display_data"
    }
   ],
   "source": [
    "concat = np.concatenate([main_lower.reset_index().values, main_upper.reset_index().values])\n",
    "coordinates_main = pd.DataFrame(concat, columns = [\"X\", \"Y\"])\n",
    "\n",
    "coordinates_main.set_index(\"X\").plot()\n",
    "\n",
    "plt.axis('equal')\n",
    "plt.grid()"
   ]
  },
  {
   "cell_type": "code",
   "execution_count": 279,
   "metadata": {},
   "outputs": [],
   "source": [
    "coordinates_main.to_csv(\n",
    "    path_or_buf=path_processed / \"main_element.csv\", index=False, sep=\"\\t\"\n",
    ")"
   ]
  },
  {
   "cell_type": "markdown",
   "metadata": {},
   "source": [
    "### Flap element"
   ]
  },
  {
   "cell_type": "code",
   "execution_count": 310,
   "metadata": {},
   "outputs": [],
   "source": [
    "slot = coordinates[\"slot\"]"
   ]
  },
  {
   "cell_type": "code",
   "execution_count": 311,
   "metadata": {},
   "outputs": [],
   "source": [
    "slot_lower = slot.filter(regex=\"lower\")\n",
    "slot_upper = slot.filter(regex=\"upper\")"
   ]
  },
  {
   "cell_type": "code",
   "execution_count": 312,
   "metadata": {},
   "outputs": [],
   "source": [
    "slot_lower = slot_lower.set_index(X_LOWER)\n",
    "slot_upper = slot_upper.set_index(X_UPPER)"
   ]
  },
  {
   "cell_type": "code",
   "execution_count": 313,
   "metadata": {},
   "outputs": [],
   "source": [
    "slot_lower = slot_lower.dropna().drop_duplicates().sort_index(ascending=False)\n",
    "slot_upper = slot_upper.dropna().drop_duplicates().sort_index(ascending=True)"
   ]
  },
  {
   "cell_type": "code",
   "execution_count": null,
   "metadata": {},
   "outputs": [],
   "source": []
  },
  {
   "cell_type": "code",
   "execution_count": 318,
   "metadata": {},
   "outputs": [
    {
     "data": {
      "text/html": [
       "<div>\n",
       "<style scoped>\n",
       "    .dataframe tbody tr th:only-of-type {\n",
       "        vertical-align: middle;\n",
       "    }\n",
       "\n",
       "    .dataframe tbody tr th {\n",
       "        vertical-align: top;\n",
       "    }\n",
       "\n",
       "    .dataframe thead th {\n",
       "        text-align: right;\n",
       "    }\n",
       "</style>\n",
       "<table border=\"1\" class=\"dataframe\">\n",
       "  <thead>\n",
       "    <tr style=\"text-align: right;\">\n",
       "      <th></th>\n",
       "      <th>X</th>\n",
       "      <th>Y</th>\n",
       "    </tr>\n",
       "  </thead>\n",
       "  <tbody>\n",
       "    <tr>\n",
       "      <th>0</th>\n",
       "      <td>0.29513</td>\n",
       "      <td>-0.00499</td>\n",
       "    </tr>\n",
       "    <tr>\n",
       "      <th>1</th>\n",
       "      <td>0.29018</td>\n",
       "      <td>-0.00385</td>\n",
       "    </tr>\n",
       "    <tr>\n",
       "      <th>2</th>\n",
       "      <td>0.28027</td>\n",
       "      <td>-0.00166</td>\n",
       "    </tr>\n",
       "    <tr>\n",
       "      <th>3</th>\n",
       "      <td>0.26538</td>\n",
       "      <td>0.00097</td>\n",
       "    </tr>\n",
       "    <tr>\n",
       "      <th>4</th>\n",
       "      <td>0.24549</td>\n",
       "      <td>0.00364</td>\n",
       "    </tr>\n",
       "    <tr>\n",
       "      <th>5</th>\n",
       "      <td>0.21557</td>\n",
       "      <td>0.00611</td>\n",
       "    </tr>\n",
       "    <tr>\n",
       "      <th>6</th>\n",
       "      <td>0.17559</td>\n",
       "      <td>0.00736</td>\n",
       "    </tr>\n",
       "    <tr>\n",
       "      <th>7</th>\n",
       "      <td>0.13551</td>\n",
       "      <td>0.00682</td>\n",
       "    </tr>\n",
       "    <tr>\n",
       "      <th>8</th>\n",
       "      <td>0.09537</td>\n",
       "      <td>0.00488</td>\n",
       "    </tr>\n",
       "    <tr>\n",
       "      <th>9</th>\n",
       "      <td>0.05518</td>\n",
       "      <td>0.00189</td>\n",
       "    </tr>\n",
       "    <tr>\n",
       "      <th>10</th>\n",
       "      <td>0.03001</td>\n",
       "      <td>-0.00079</td>\n",
       "    </tr>\n",
       "    <tr>\n",
       "      <th>11</th>\n",
       "      <td>0.01592</td>\n",
       "      <td>-0.00230</td>\n",
       "    </tr>\n",
       "    <tr>\n",
       "      <th>12</th>\n",
       "      <td>0.00787</td>\n",
       "      <td>-0.00330</td>\n",
       "    </tr>\n",
       "    <tr>\n",
       "      <th>13</th>\n",
       "      <td>0.00404</td>\n",
       "      <td>-0.00377</td>\n",
       "    </tr>\n",
       "    <tr>\n",
       "      <th>14</th>\n",
       "      <td>0.00186</td>\n",
       "      <td>-0.00327</td>\n",
       "    </tr>\n",
       "    <tr>\n",
       "      <th>15</th>\n",
       "      <td>0.00059</td>\n",
       "      <td>-0.00210</td>\n",
       "    </tr>\n",
       "    <tr>\n",
       "      <th>16</th>\n",
       "      <td>0.00000</td>\n",
       "      <td>-0.00027</td>\n",
       "    </tr>\n",
       "    <tr>\n",
       "      <th>17</th>\n",
       "      <td>0.00011</td>\n",
       "      <td>0.00193</td>\n",
       "    </tr>\n",
       "    <tr>\n",
       "      <th>18</th>\n",
       "      <td>0.00093</td>\n",
       "      <td>0.00439</td>\n",
       "    </tr>\n",
       "    <tr>\n",
       "      <th>19</th>\n",
       "      <td>0.00275</td>\n",
       "      <td>0.00732</td>\n",
       "    </tr>\n",
       "    <tr>\n",
       "      <th>20</th>\n",
       "      <td>0.00593</td>\n",
       "      <td>0.01080</td>\n",
       "    </tr>\n",
       "    <tr>\n",
       "      <th>21</th>\n",
       "      <td>0.01052</td>\n",
       "      <td>0.01447</td>\n",
       "    </tr>\n",
       "    <tr>\n",
       "      <th>22</th>\n",
       "      <td>0.02100</td>\n",
       "      <td>0.02062</td>\n",
       "    </tr>\n",
       "    <tr>\n",
       "      <th>23</th>\n",
       "      <td>0.03643</td>\n",
       "      <td>0.02703</td>\n",
       "    </tr>\n",
       "    <tr>\n",
       "      <th>24</th>\n",
       "      <td>0.05672</td>\n",
       "      <td>0.03240</td>\n",
       "    </tr>\n",
       "    <tr>\n",
       "      <th>25</th>\n",
       "      <td>0.07687</td>\n",
       "      <td>0.03552</td>\n",
       "    </tr>\n",
       "    <tr>\n",
       "      <th>26</th>\n",
       "      <td>0.09695</td>\n",
       "      <td>0.03714</td>\n",
       "    </tr>\n",
       "    <tr>\n",
       "      <th>27</th>\n",
       "      <td>0.11698</td>\n",
       "      <td>0.03741</td>\n",
       "    </tr>\n",
       "    <tr>\n",
       "      <th>28</th>\n",
       "      <td>0.13693</td>\n",
       "      <td>0.03578</td>\n",
       "    </tr>\n",
       "    <tr>\n",
       "      <th>29</th>\n",
       "      <td>0.15681</td>\n",
       "      <td>0.03291</td>\n",
       "    </tr>\n",
       "    <tr>\n",
       "      <th>30</th>\n",
       "      <td>0.18164</td>\n",
       "      <td>0.02869</td>\n",
       "    </tr>\n",
       "    <tr>\n",
       "      <th>31</th>\n",
       "      <td>0.21636</td>\n",
       "      <td>0.02214</td>\n",
       "    </tr>\n",
       "    <tr>\n",
       "      <th>32</th>\n",
       "      <td>0.24610</td>\n",
       "      <td>0.01618</td>\n",
       "    </tr>\n",
       "    <tr>\n",
       "      <th>33</th>\n",
       "      <td>0.26591</td>\n",
       "      <td>0.01180</td>\n",
       "    </tr>\n",
       "    <tr>\n",
       "      <th>34</th>\n",
       "      <td>0.28076</td>\n",
       "      <td>0.00842</td>\n",
       "    </tr>\n",
       "    <tr>\n",
       "      <th>35</th>\n",
       "      <td>0.29066</td>\n",
       "      <td>0.00604</td>\n",
       "    </tr>\n",
       "    <tr>\n",
       "      <th>36</th>\n",
       "      <td>0.29560</td>\n",
       "      <td>0.00479</td>\n",
       "    </tr>\n",
       "  </tbody>\n",
       "</table>\n",
       "</div>"
      ],
      "text/plain": [
       "          X        Y\n",
       "0   0.29513 -0.00499\n",
       "1   0.29018 -0.00385\n",
       "2   0.28027 -0.00166\n",
       "3   0.26538  0.00097\n",
       "4   0.24549  0.00364\n",
       "5   0.21557  0.00611\n",
       "6   0.17559  0.00736\n",
       "7   0.13551  0.00682\n",
       "8   0.09537  0.00488\n",
       "9   0.05518  0.00189\n",
       "10  0.03001 -0.00079\n",
       "11  0.01592 -0.00230\n",
       "12  0.00787 -0.00330\n",
       "13  0.00404 -0.00377\n",
       "14  0.00186 -0.00327\n",
       "15  0.00059 -0.00210\n",
       "16  0.00000 -0.00027\n",
       "17  0.00011  0.00193\n",
       "18  0.00093  0.00439\n",
       "19  0.00275  0.00732\n",
       "20  0.00593  0.01080\n",
       "21  0.01052  0.01447\n",
       "22  0.02100  0.02062\n",
       "23  0.03643  0.02703\n",
       "24  0.05672  0.03240\n",
       "25  0.07687  0.03552\n",
       "26  0.09695  0.03714\n",
       "27  0.11698  0.03741\n",
       "28  0.13693  0.03578\n",
       "29  0.15681  0.03291\n",
       "30  0.18164  0.02869\n",
       "31  0.21636  0.02214\n",
       "32  0.24610  0.01618\n",
       "33  0.26591  0.01180\n",
       "34  0.28076  0.00842\n",
       "35  0.29066  0.00604\n",
       "36  0.29560  0.00479"
      ]
     },
     "execution_count": 318,
     "metadata": {},
     "output_type": "execute_result"
    }
   ],
   "source": [
    "coordinates_slot"
   ]
  },
  {
   "cell_type": "code",
   "execution_count": 315,
   "metadata": {},
   "outputs": [
    {
     "data": {
      "image/png": "[encoded data removed]",
      "text/plain": [
       "<Figure size 720x504 with 1 Axes>"
      ]
     },
     "metadata": {
      "needs_background": "light"
     },
     "output_type": "display_data"
    }
   ],
   "source": [
    "concat = np.concatenate([slot_lower.reset_index().values, slot_upper.reset_index().values])\n",
    "coordinates_slot = pd.DataFrame(concat, columns = [\"X\", \"Y\"])\n",
    "\n",
    "coordinates_slot.set_index(\"X\").plot()\n",
    "\n",
    "plt.axis(\"equal\")\n",
    "plt.grid()"
   ]
  },
  {
   "cell_type": "code",
   "execution_count": 317,
   "metadata": {},
   "outputs": [],
   "source": [
    "coordinates_slot.to_csv(\n",
    "    path_or_buf=path_processed / \"flap.dat\", index=False, sep=\"\\t\"\n",
    ")"
   ]
  },
  {
   "cell_type": "code",
   "execution_count": null,
   "metadata": {},
   "outputs": [],
   "source": []
  },
  {
   "cell_type": "code",
   "execution_count": null,
   "metadata": {},
   "outputs": [],
   "source": []
  }
 ],
 "metadata": {
  "kernelspec": {
   "display_name": "Python 3",
   "language": "python",
   "name": "python3"
  },
  "language_info": {
   "codemirror_mode": {
    "name": "ipython",
    "version": 3
   },
   "file_extension": ".py",
   "mimetype": "text/x-python",
   "name": "python",
   "nbconvert_exporter": "python",
   "pygments_lexer": "ipython3",
   "version": "3.8.5"
  },
  "latex_envs": {
   "LaTeX_envs_menu_present": true,
   "autoclose": false,
   "autocomplete": true,
   "bibliofile": "biblio.bib",
   "cite_by": "apalike",
   "current_citInitial": 1,
   "eqLabelWithNumbers": true,
   "eqNumInitial": 1,
   "hotkeys": {
    "equation": "Ctrl-E",
    "itemize": "Ctrl-I"
   },
   "labels_anchors": false,
   "latex_user_defs": false,
   "report_style_numbering": false,
   "user_envs_cfg": false
  },
  "toc": {
   "base_numbering": 1,
   "nav_menu": {},
   "number_sections": true,
   "sideBar": true,
   "skip_h1_title": false,
   "title_cell": "Table of Contents",
   "title_sidebar": "Contents",
   "toc_cell": false,
   "toc_position": {},
   "toc_section_display": true,
   "toc_window_display": false
  },
  "varInspector": {
   "cols": {
    "lenName": 16,
    "lenType": 16,
    "lenVar": 40
   },
   "kernels_config": {
    "python": {
     "delete_cmd_postfix": "",
     "delete_cmd_prefix": "del ",
     "library": "var_list.py",
     "varRefreshCmd": "print(var_dic_list())"
    },
    "r": {
     "delete_cmd_postfix": ") ",
     "delete_cmd_prefix": "rm(",
     "library": "var_list.r",
     "varRefreshCmd": "cat(var_dic_list()) "
    }
   },
   "types_to_exclude": [
    "module",
    "function",
    "builtin_function_or_method",
    "instance",
    "_Feature"
   ],
   "window_display": false
  }
 },
 "nbformat": 4,
 "nbformat_minor": 4
}
