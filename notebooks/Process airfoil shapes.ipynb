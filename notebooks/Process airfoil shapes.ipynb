{
 "cells": [
  {
   "cell_type": "markdown",
   "metadata": {},
   "source": [
    "# Create multi-element airfoil data"
   ]
  },
  {
   "cell_type": "code",
   "execution_count": 1,
   "metadata": {},
   "outputs": [],
   "source": [
    "import pandas as pd\n",
    "from pathlib import Path\n",
    "import matplotlib.pyplot as plt\n",
    "import matplotlib\n",
    "import numpy as np\n",
    "\n",
    "matplotlib.rcParams[\"figure.figsize\"] = [10, 7]  # Make plots bigger than default"
   ]
  },
  {
   "cell_type": "code",
   "execution_count": 2,
   "metadata": {},
   "outputs": [
    {
     "data": {
      "text/plain": [
       "[PosixPath('../data/coordinates/.DS_Store'),\n",
       " PosixPath('../data/coordinates/body.png'),\n",
       " PosixPath('../data/coordinates/slot.png'),\n",
       " PosixPath('../data/coordinates/cove.png'),\n",
       " PosixPath('../data/coordinates/cove.csv'),\n",
       " PosixPath('../data/coordinates/processed'),\n",
       " PosixPath('../data/coordinates/raw')]"
      ]
     },
     "execution_count": 2,
     "metadata": {},
     "output_type": "execute_result"
    }
   ],
   "source": [
    "PATH_DATA = Path(\"../data/coordinates\")\n",
    "list(PATH_DATA.glob(\"*\"))"
   ]
  },
  {
   "cell_type": "code",
   "execution_count": 3,
   "metadata": {},
   "outputs": [],
   "source": [
    "# Paths\n",
    "path_raw = PATH_DATA / \"raw\"\n",
    "path_processed = PATH_DATA / \"processed\""
   ]
  },
  {
   "cell_type": "markdown",
   "metadata": {},
   "source": [
    "## Scale raw data"
   ]
  },
  {
   "cell_type": "code",
   "execution_count": 4,
   "metadata": {},
   "outputs": [],
   "source": [
    "COVE_NAME = \"cove_smooth\"\n",
    "\n",
    "names = [\"main\", \"slot\", COVE_NAME]\n",
    "\n",
    "# Operations\n",
    "X_LOWER = \"X_lower\"\n",
    "X_UPPER = \"X_upper\"\n",
    "Y_LOWER = \"Y_lower\"\n",
    "Y_UPPER = \"Y_upper\""
   ]
  },
  {
   "cell_type": "code",
   "execution_count": 5,
   "metadata": {},
   "outputs": [],
   "source": [
    "coordinates = dict()\n",
    "for name in names:\n",
    "\n",
    "    _name = name + \".csv\"\n",
    "    _coordinates = pd.read_csv(path_raw / _name)\n",
    "    \n",
    "    # Scale\n",
    "    _coordinates = _coordinates.div(100.0).round(6)\n",
    "    \n",
    "    # Repanel\n",
    "    _coordinates\n",
    "\n",
    "    # Save\n",
    "    coordinates[name] = _coordinates.copy()\n",
    "    \n",
    "    _coordinates.to_csv(path_or_buf = path_processed / _name , index=False)"
   ]
  },
  {
   "cell_type": "markdown",
   "metadata": {},
   "source": [
    "## Build airfoils"
   ]
  },
  {
   "cell_type": "code",
   "execution_count": 6,
   "metadata": {},
   "outputs": [],
   "source": [
    "main = coordinates[\"main\"]\n",
    "cove = coordinates[COVE_NAME]"
   ]
  },
  {
   "cell_type": "markdown",
   "metadata": {},
   "source": [
    "### Main element"
   ]
  },
  {
   "cell_type": "markdown",
   "metadata": {},
   "source": [
    "#### Lower surface"
   ]
  },
  {
   "cell_type": "code",
   "execution_count": 7,
   "metadata": {},
   "outputs": [],
   "source": [
    "main_lower = main.filter(regex=\"lower\")\n",
    "cove_lower = cove.filter(regex=\"lower\")"
   ]
  },
  {
   "cell_type": "code",
   "execution_count": 8,
   "metadata": {},
   "outputs": [],
   "source": [
    "min_x = cove_lower[X_LOWER].min()\n",
    "mask = main_lower[X_LOWER] < min_x\n",
    "\n",
    "main_lower = main_lower.loc[mask].append(cove_lower).set_index(X_LOWER)"
   ]
  },
  {
   "cell_type": "markdown",
   "metadata": {},
   "source": [
    "#### Upper surface"
   ]
  },
  {
   "cell_type": "code",
   "execution_count": 10,
   "metadata": {},
   "outputs": [],
   "source": [
    "main_upper = main.filter(regex=\"upper\")\n",
    "cove_upper = cove.filter(regex=\"upper\")"
   ]
  },
  {
   "cell_type": "code",
   "execution_count": 11,
   "metadata": {},
   "outputs": [],
   "source": [
    "min_x = cove_upper[X_UPPER].min()\n",
    "mask = main_upper[X_UPPER] < min_x\n",
    "\n",
    "main_upper = main_upper.loc[mask].append(cove_upper).set_index(X_UPPER)\n",
    "\n",
    "# Fill in the gaps\n",
    "main_upper = main_upper.reset_index(drop=False).dropna(subset=[X_UPPER]).set_index(X_UPPER)\n",
    "main_upper = main_upper.interpolate(method=\"index\")"
   ]
  },
  {
   "cell_type": "markdown",
   "metadata": {},
   "source": [
    "#### Combine upper and lower surface"
   ]
  },
  {
   "cell_type": "code",
   "execution_count": 12,
   "metadata": {},
   "outputs": [],
   "source": [
    "def interpolate_series(series, N):\n",
    "    \"\"\"Interpolate series to higher frequency.\n",
    "\n",
    "    Parameters\n",
    "    ----------\n",
    "    series : pandas.Series\n",
    "    N : int\n",
    "\n",
    "    Returns\n",
    "    -------\n",
    "    series : interpolated series\n",
    "    \"\"\"\n",
    "\n",
    "    _series = series.copy()\n",
    "\n",
    "    grad = series.index.values[0] - series.index.values[-1]\n",
    "    ascending = grad < 0\n",
    "\n",
    "    index = _series.index\n",
    "    start = index[0]\n",
    "    stop = index[-1]\n",
    "\n",
    "    new_index = np.linspace(start=start, stop=stop, num=N)\n",
    "    new_index = pd.Index(new_index[1:-1])\n",
    "\n",
    "    _series = _series.reindex(new_index.append(index))\n",
    "    _series = _series.sort_index(ascending=ascending)\n",
    "    _series = _series.interpolate(method=\"index\")\n",
    "\n",
    "    return _series"
   ]
  },
  {
   "cell_type": "code",
   "execution_count": 13,
   "metadata": {},
   "outputs": [],
   "source": [
    "# Clean\n",
    "main_lower = main_lower.dropna().drop_duplicates().sort_index(ascending=False)\n",
    "main_upper = main_upper.dropna().drop_duplicates().sort_index(ascending=True)\n",
    "\n",
    "# Interpolate\n",
    "# N_UPPER = 50\n",
    "# N_LOWER = 60\n",
    "\n",
    "# main_lower = interpolate_series(main_lower, N = N_LOWER)\n",
    "# main_upper = interpolate_series(main_upper, N = N_UPPER)"
   ]
  },
  {
   "cell_type": "code",
   "execution_count": 14,
   "metadata": {},
   "outputs": [
    {
     "data": {
      "image/png": "[encoded data removed]",
      "text/plain": [
       "<Figure size 720x504 with 1 Axes>"
      ]
     },
     "metadata": {
      "needs_background": "light"
     },
     "output_type": "display_data"
    }
   ],
   "source": [
    "ax = main_lower.plot(marker = \".\")\n",
    "main_upper.plot(ax=ax,marker = \".\")\n",
    "\n",
    "plt.axis(\"equal\")\n",
    "plt.grid()"
   ]
  },
  {
   "cell_type": "code",
   "execution_count": 15,
   "metadata": {},
   "outputs": [
    {
     "data": {
      "image/png": "[encoded data removed]",
      "text/plain": [
       "<Figure size 720x504 with 1 Axes>"
      ]
     },
     "metadata": {
      "needs_background": "light"
     },
     "output_type": "display_data"
    }
   ],
   "source": [
    "concat = np.concatenate([main_lower.reset_index().values, main_upper.reset_index().values])\n",
    "coordinates_main = pd.DataFrame(concat, columns = [\"X\", \"Y\"])\n",
    "\n",
    "coordinates_main.set_index(\"X\").plot()\n",
    "\n",
    "plt.axis('equal')\n",
    "plt.grid()"
   ]
  },
  {
   "cell_type": "code",
   "execution_count": 16,
   "metadata": {},
   "outputs": [],
   "source": [
    "x = 0.6895"
   ]
  },
  {
   "cell_type": "code",
   "execution_count": 17,
   "metadata": {},
   "outputs": [],
   "source": [
    "mask = main_upper.index < x"
   ]
  },
  {
   "cell_type": "code",
   "execution_count": 18,
   "metadata": {},
   "outputs": [
    {
     "data": {
      "text/plain": [
       "X_upper\n",
       "0.675    0.0369\n",
       "Name: Y_upper, dtype: float64"
      ]
     },
     "execution_count": 18,
     "metadata": {},
     "output_type": "execute_result"
    }
   ],
   "source": [
    "main_upper.squeeze().loc[mask].tail(1)"
   ]
  },
  {
   "cell_type": "code",
   "execution_count": 19,
   "metadata": {},
   "outputs": [
    {
     "data": {
      "text/html": [
       "<div>\n",
       "<style scoped>\n",
       "    .dataframe tbody tr th:only-of-type {\n",
       "        vertical-align: middle;\n",
       "    }\n",
       "\n",
       "    .dataframe tbody tr th {\n",
       "        vertical-align: top;\n",
       "    }\n",
       "\n",
       "    .dataframe thead th {\n",
       "        text-align: right;\n",
       "    }\n",
       "</style>\n",
       "<table border=\"1\" class=\"dataframe\">\n",
       "  <thead>\n",
       "    <tr style=\"text-align: right;\">\n",
       "      <th></th>\n",
       "      <th>Y_upper</th>\n",
       "    </tr>\n",
       "    <tr>\n",
       "      <th>X_upper</th>\n",
       "      <th></th>\n",
       "    </tr>\n",
       "  </thead>\n",
       "  <tbody>\n",
       "    <tr>\n",
       "      <th>0.00000</th>\n",
       "      <td>0.00000</td>\n",
       "    </tr>\n",
       "    <tr>\n",
       "      <th>0.00035</th>\n",
       "      <td>0.00350</td>\n",
       "    </tr>\n",
       "    <tr>\n",
       "      <th>0.00150</th>\n",
       "      <td>0.00750</td>\n",
       "    </tr>\n",
       "    <tr>\n",
       "      <th>0.00400</th>\n",
       "      <td>0.01185</td>\n",
       "    </tr>\n",
       "    <tr>\n",
       "      <th>0.00700</th>\n",
       "      <td>0.01500</td>\n",
       "    </tr>\n",
       "    <tr>\n",
       "      <th>0.01250</th>\n",
       "      <td>0.01870</td>\n",
       "    </tr>\n",
       "    <tr>\n",
       "      <th>0.02000</th>\n",
       "      <td>0.02220</td>\n",
       "    </tr>\n",
       "    <tr>\n",
       "      <th>0.03250</th>\n",
       "      <td>0.02630</td>\n",
       "    </tr>\n",
       "    <tr>\n",
       "      <th>0.05000</th>\n",
       "      <td>0.03040</td>\n",
       "    </tr>\n",
       "    <tr>\n",
       "      <th>0.07500</th>\n",
       "      <td>0.03460</td>\n",
       "    </tr>\n",
       "    <tr>\n",
       "      <th>0.11000</th>\n",
       "      <td>0.03860</td>\n",
       "    </tr>\n",
       "    <tr>\n",
       "      <th>0.11667</th>\n",
       "      <td>0.03910</td>\n",
       "    </tr>\n",
       "    <tr>\n",
       "      <th>0.15000</th>\n",
       "      <td>0.04160</td>\n",
       "    </tr>\n",
       "    <tr>\n",
       "      <th>0.20000</th>\n",
       "      <td>0.04410</td>\n",
       "    </tr>\n",
       "    <tr>\n",
       "      <th>0.25000</th>\n",
       "      <td>0.04560</td>\n",
       "    </tr>\n",
       "    <tr>\n",
       "      <th>0.30000</th>\n",
       "      <td>0.04630</td>\n",
       "    </tr>\n",
       "    <tr>\n",
       "      <th>0.35000</th>\n",
       "      <td>0.04650</td>\n",
       "    </tr>\n",
       "    <tr>\n",
       "      <th>0.40000</th>\n",
       "      <td>0.04620</td>\n",
       "    </tr>\n",
       "    <tr>\n",
       "      <th>0.50000</th>\n",
       "      <td>0.04440</td>\n",
       "    </tr>\n",
       "    <tr>\n",
       "      <th>0.55000</th>\n",
       "      <td>0.04290</td>\n",
       "    </tr>\n",
       "    <tr>\n",
       "      <th>0.60000</th>\n",
       "      <td>0.04090</td>\n",
       "    </tr>\n",
       "    <tr>\n",
       "      <th>0.65000</th>\n",
       "      <td>0.03840</td>\n",
       "    </tr>\n",
       "    <tr>\n",
       "      <th>0.67500</th>\n",
       "      <td>0.03690</td>\n",
       "    </tr>\n",
       "    <tr>\n",
       "      <th>0.70500</th>\n",
       "      <td>0.03520</td>\n",
       "    </tr>\n",
       "    <tr>\n",
       "      <th>0.73000</th>\n",
       "      <td>0.03325</td>\n",
       "    </tr>\n",
       "    <tr>\n",
       "      <th>0.75500</th>\n",
       "      <td>0.03125</td>\n",
       "    </tr>\n",
       "    <tr>\n",
       "      <th>0.77500</th>\n",
       "      <td>0.02960</td>\n",
       "    </tr>\n",
       "    <tr>\n",
       "      <th>0.79000</th>\n",
       "      <td>0.02813</td>\n",
       "    </tr>\n",
       "    <tr>\n",
       "      <th>0.80250</th>\n",
       "      <td>0.02705</td>\n",
       "    </tr>\n",
       "    <tr>\n",
       "      <th>0.81300</th>\n",
       "      <td>0.02605</td>\n",
       "    </tr>\n",
       "    <tr>\n",
       "      <th>0.82100</th>\n",
       "      <td>0.02530</td>\n",
       "    </tr>\n",
       "    <tr>\n",
       "      <th>0.82500</th>\n",
       "      <td>0.02490</td>\n",
       "    </tr>\n",
       "  </tbody>\n",
       "</table>\n",
       "</div>"
      ],
      "text/plain": [
       "         Y_upper\n",
       "X_upper         \n",
       "0.00000  0.00000\n",
       "0.00035  0.00350\n",
       "0.00150  0.00750\n",
       "0.00400  0.01185\n",
       "0.00700  0.01500\n",
       "0.01250  0.01870\n",
       "0.02000  0.02220\n",
       "0.03250  0.02630\n",
       "0.05000  0.03040\n",
       "0.07500  0.03460\n",
       "0.11000  0.03860\n",
       "0.11667  0.03910\n",
       "0.15000  0.04160\n",
       "0.20000  0.04410\n",
       "0.25000  0.04560\n",
       "0.30000  0.04630\n",
       "0.35000  0.04650\n",
       "0.40000  0.04620\n",
       "0.50000  0.04440\n",
       "0.55000  0.04290\n",
       "0.60000  0.04090\n",
       "0.65000  0.03840\n",
       "0.67500  0.03690\n",
       "0.70500  0.03520\n",
       "0.73000  0.03325\n",
       "0.75500  0.03125\n",
       "0.77500  0.02960\n",
       "0.79000  0.02813\n",
       "0.80250  0.02705\n",
       "0.81300  0.02605\n",
       "0.82100  0.02530\n",
       "0.82500  0.02490"
      ]
     },
     "execution_count": 19,
     "metadata": {},
     "output_type": "execute_result"
    }
   ],
   "source": [
    "main_upper.loc[[main_upper.squeeze() < x][-1]]"
   ]
  },
  {
   "cell_type": "code",
   "execution_count": 20,
   "metadata": {},
   "outputs": [],
   "source": [
    "coordinates_main.to_csv(\n",
    "    path_or_buf=path_processed / \"main_element.csv\", index=False, sep=\"\\t\"\n",
    ")"
   ]
  },
  {
   "cell_type": "markdown",
   "metadata": {},
   "source": [
    "### Flap element"
   ]
  },
  {
   "cell_type": "code",
   "execution_count": 21,
   "metadata": {},
   "outputs": [],
   "source": [
    "slot = coordinates[\"slot\"]"
   ]
  },
  {
   "cell_type": "code",
   "execution_count": 22,
   "metadata": {},
   "outputs": [],
   "source": [
    "slot_lower = slot.filter(regex=\"lower\")\n",
    "slot_upper = slot.filter(regex=\"upper\")"
   ]
  },
  {
   "cell_type": "code",
   "execution_count": 23,
   "metadata": {},
   "outputs": [],
   "source": [
    "slot_lower = slot_lower.set_index(X_LOWER)\n",
    "slot_upper = slot_upper.set_index(X_UPPER)"
   ]
  },
  {
   "cell_type": "code",
   "execution_count": 24,
   "metadata": {},
   "outputs": [],
   "source": [
    "slot_lower = slot_lower.dropna().drop_duplicates().sort_index(ascending=False)\n",
    "slot_upper = slot_upper.dropna().drop_duplicates().sort_index(ascending=True)"
   ]
  },
  {
   "cell_type": "code",
   "execution_count": null,
   "metadata": {},
   "outputs": [],
   "source": []
  },
  {
   "cell_type": "code",
   "execution_count": 26,
   "metadata": {},
   "outputs": [
    {
     "data": {
      "image/png": "[encoded data removed]",
      "text/plain": [
       "<Figure size 720x504 with 1 Axes>"
      ]
     },
     "metadata": {
      "needs_background": "light"
     },
     "output_type": "display_data"
    }
   ],
   "source": [
    "concat = np.concatenate([slot_lower.reset_index().values, slot_upper.reset_index().values])\n",
    "coordinates_slot = pd.DataFrame(concat, columns = [\"X\", \"Y\"])\n",
    "\n",
    "coordinates_slot.set_index(\"X\").plot()\n",
    "\n",
    "plt.axis(\"equal\")\n",
    "plt.grid()"
   ]
  },
  {
   "cell_type": "code",
   "execution_count": 27,
   "metadata": {},
   "outputs": [],
   "source": [
    "coordinates_slot.to_csv(\n",
    "    path_or_buf=path_processed / \"flap.dat\", index=False, sep=\"\\t\"\n",
    ")"
   ]
  }
 ],
 "metadata": {
  "kernelspec": {
   "display_name": "Python 3",
   "language": "python",
   "name": "python3"
  },
  "language_info": {
   "codemirror_mode": {
    "name": "ipython",
    "version": 3
   },
   "file_extension": ".py",
   "mimetype": "text/x-python",
   "name": "python",
   "nbconvert_exporter": "python",
   "pygments_lexer": "ipython3",
   "version": "3.8.5"
  },
  "latex_envs": {
   "LaTeX_envs_menu_present": true,
   "autoclose": false,
   "autocomplete": true,
   "bibliofile": "biblio.bib",
   "cite_by": "apalike",
   "current_citInitial": 1,
   "eqLabelWithNumbers": true,
   "eqNumInitial": 1,
   "hotkeys": {
    "equation": "Ctrl-E",
    "itemize": "Ctrl-I"
   },
   "labels_anchors": false,
   "latex_user_defs": false,
   "report_style_numbering": false,
   "user_envs_cfg": false
  },
  "toc": {
   "base_numbering": 1,
   "nav_menu": {},
   "number_sections": true,
   "sideBar": true,
   "skip_h1_title": false,
   "title_cell": "Table of Contents",
   "title_sidebar": "Contents",
   "toc_cell": false,
   "toc_position": {},
   "toc_section_display": true,
   "toc_window_display": false
  },
  "varInspector": {
   "cols": {
    "lenName": 16,
    "lenType": 16,
    "lenVar": 40
   },
   "kernels_config": {
    "python": {
     "delete_cmd_postfix": "",
     "delete_cmd_prefix": "del ",
     "library": "var_list.py",
     "varRefreshCmd": "print(var_dic_list())"
    },
    "r": {
     "delete_cmd_postfix": ") ",
     "delete_cmd_prefix": "rm(",
     "library": "var_list.r",
     "varRefreshCmd": "cat(var_dic_list()) "
    }
   },
   "types_to_exclude": [
    "module",
    "function",
    "builtin_function_or_method",
    "instance",
    "_Feature"
   ],
   "window_display": false
  }
 },
 "nbformat": 4,
 "nbformat_minor": 4
}
